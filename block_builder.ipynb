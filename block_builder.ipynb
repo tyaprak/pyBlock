{
 "cells": [
  {
   "cell_type": "code",
   "execution_count": 25,
   "metadata": {},
   "outputs": [],
   "source": [
    "from datetime import datetime\n",
    "import hashlib\n",
    "import random\n",
    "\n",
    "HASH_STARTS_WITH=\"d34db33f\"\n",
    "choices_of_poll=[\"E\",\"H\"]\n",
    "dt=datetime.now().strftime(\"%d-%m-%Y, %H:%M:%S\")\n",
    "tc: int=random.randrange(start=10000000000,step=2,stop=99999999998)\n",
    "cvp: str=random.choice(choices_of_poll)\n",
    "nonce:int = 0"
   ]
  },
  {
   "cell_type": "code",
   "execution_count": 24,
   "metadata": {},
   "outputs": [
    {
     "name": "stdout",
     "output_type": "stream",
     "text": [
      "{'block': 1, 'data': [{'tckno': '64191194074', 'datetime': '16-10-2024, 13:47:12', 'cevap': 'E'}], 'prev': '0000000000000000000000000000000000000000000000000000000000000000', 'nonce': 319202, 'hash': '1111111faa8d41efafe8a5bfb0665b53cdb79d89fd1781c3630efd33d617cebc'}\n"
     ]
    }
   ],
   "source": [
    "def block_builder(block_id):\n",
    "    nonce=0\n",
    "    nonce_search=True\n",
    "    while nonce_search:\n",
    "        block: dict=    {   \"block\":f\"{block_id}\",\n",
    "                            \"data\": [\n",
    "                                        {   \"tckno\":f\"{tc}\",\n",
    "                                            \"datetime\":f\"{dt}\",\n",
    "                                            \"cevap\":f\"{cvp}\"}\n",
    "                                    ]\n",
    "                        }\n",
    "        with open(\"blocks.txt\",\"r\") as f:\n",
    "            f.readlines()\n",
    "        if block_id==1:\n",
    "            block[\"prev\"]=\"0\"*64\n",
    "        block[\"nonce\"]=nonce\n",
    "        block_bits=str(block).encode(\"utf-8\")\n",
    "        hash=hashlib.sha256(block_bits).hexdigest()\n",
    "        if hash.startswith(HASH_STARTS_WITH):\n",
    "            block[\"hash\"]=hash\n",
    "            with open(\"blocks.txt\",\"a+\") as f:\n",
    "                f.write(str(block))\n",
    "            nonce_search=False\n",
    "        else:\n",
    "            nonce+=1"
   ]
  },
  {
   "cell_type": "code",
   "execution_count": 50,
   "metadata": {},
   "outputs": [
    {
     "name": "stdout",
     "output_type": "stream",
     "text": [
      "1111111faa8d41efafe8a5bfb0665b53cdb79d89fd1781c3630efd33d617cebc\n"
     ]
    }
   ],
   "source": [
    "import json\n",
    "with open(\"blocks.txt\",\"r\") as f:\n",
    "    liste=f.readlines()\n",
    "jobj=(json.loads(liste[-1]))\n",
    "print(jobj[\"hash\"])\n"
   ]
  },
  {
   "cell_type": "code",
   "execution_count": null,
   "metadata": {},
   "outputs": [],
   "source": []
  }
 ],
 "metadata": {
  "kernelspec": {
   "display_name": "Python 3",
   "language": "python",
   "name": "python3"
  },
  "language_info": {
   "codemirror_mode": {
    "name": "ipython",
    "version": 3
   },
   "file_extension": ".py",
   "mimetype": "text/x-python",
   "name": "python",
   "nbconvert_exporter": "python",
   "pygments_lexer": "ipython3",
   "version": "3.11.2"
  }
 },
 "nbformat": 4,
 "nbformat_minor": 2
}
